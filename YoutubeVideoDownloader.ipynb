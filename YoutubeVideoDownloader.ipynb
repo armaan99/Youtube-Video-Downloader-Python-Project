{
 "cells": [
  {
   "cell_type": "markdown",
   "metadata": {},
   "source": [
    "# YouTube Video Downloader"
   ]
  },
  {
   "cell_type": "code",
   "execution_count": 1,
   "metadata": {},
   "outputs": [
    {
     "name": "stdout",
     "output_type": "stream",
     "text": [
      "Requirement already satisfied: pytube3 in d:\\utilities\\anaconda\\lib\\site-packages (9.6.4)\n",
      "Requirement already satisfied: typing-extensions in d:\\utilities\\anaconda\\lib\\site-packages (from pytube3) (3.7.4.3)\n"
     ]
    }
   ],
   "source": [
    "# Installing pytube3 package\n",
    "!pip install pytube3"
   ]
  },
  {
   "cell_type": "code",
   "execution_count": 2,
   "metadata": {},
   "outputs": [],
   "source": [
    "# Importing Youtube from pytube\n",
    "from pytube import YouTube"
   ]
  },
  {
   "cell_type": "markdown",
   "metadata": {},
   "source": [
    "<b>I have tested this with this youtube video :</b> <i>https://www.youtube.com/watch?v=yobobniv0sU</i>"
   ]
  },
  {
   "cell_type": "code",
   "execution_count": 3,
   "metadata": {},
   "outputs": [
    {
     "name": "stdout",
     "output_type": "stream",
     "text": [
      "Enter URL of YouTube Video : https://www.youtube.com/watch?v=yobobniv0sU\n"
     ]
    }
   ],
   "source": [
    "# Taking YouTube Video URL as input\n",
    "url = input(\"Enter URL of YouTube Video : \")"
   ]
  },
  {
   "cell_type": "code",
   "execution_count": 4,
   "metadata": {},
   "outputs": [],
   "source": [
    "# Creating YouTube object reference as yt\n",
    "try:\n",
    "    yt = YouTube(url)\n",
    "except:\n",
    "    print(\"Due to regex error, this video url can't be processed. Try using another video\")"
   ]
  },
  {
   "cell_type": "code",
   "execution_count": 5,
   "metadata": {},
   "outputs": [
    {
     "name": "stdout",
     "output_type": "stream",
     "text": [
      "Video ID : yobobniv0sU\n",
      "----------------------------------------\n",
      "Title : Award Winning Short Film - Motivational Video for WhatsApp Status\n",
      "----------------------------------------\n",
      "DUration : 168sec\n",
      "----------------------------------------\n",
      "Views : 452837\n",
      "----------------------------------------\n",
      "Rating : 4.9607048\n",
      "----------------------------------------\n",
      "Age Restricted : False\n",
      "----------------------------------------\n",
      "Description :\n",
      "Winners never quit, and quitters never win! Your hardest times often lead to the greatest moments of your life. Keep going. Tough situations build strong people in the end.\n",
      "----------------------------------------\n",
      "Thumbnail : https://i.ytimg.com/vi/yobobniv0sU/maxresdefault.jpg\n"
     ]
    }
   ],
   "source": [
    "# Displaying Video details\n",
    "\n",
    "# Video ID\n",
    "print(\"Video ID : \" + yt.video_id)\n",
    "print(\"----------------------------------------\")\n",
    "\n",
    "# Video Title\n",
    "print(\"Title : \" + yt.title)\n",
    "print(\"----------------------------------------\")\n",
    "\n",
    "# Video length in seconds\n",
    "print(\"DUration : \" + str(yt.length) + \"sec\")\n",
    "print(\"----------------------------------------\")\n",
    "\n",
    "# Number of views on Video\n",
    "print(\"Views : \" + str(yt.views))\n",
    "print(\"----------------------------------------\")\n",
    "\n",
    "# Video Rating\n",
    "print(\"Rating : \" + str(yt.rating))\n",
    "print(\"----------------------------------------\")\n",
    "\n",
    "# If the Video is Age Restricted or not\n",
    "print(\"Age Restricted : \" + str(yt.age_restricted))\n",
    "print(\"----------------------------------------\")\n",
    "\n",
    "# Video Description\n",
    "print(\"Description :\\n\" + yt.description)\n",
    "print(\"----------------------------------------\")\n",
    "\n",
    "# URL of Video's Thumbnail\n",
    "print(\"Thumbnail : \" + yt.thumbnail_url)"
   ]
  },
  {
   "cell_type": "code",
   "execution_count": 6,
   "metadata": {},
   "outputs": [],
   "source": [
    "# Displaying Video's Thumbnail\n",
    "\n",
    "# Importing necessary python libraries\n",
    "import urllib.request\n",
    "from PIL import Image\n",
    "\n",
    "img = Image.open(urllib.request.urlopen(yt.thumbnail_url))\n",
    "img.show()"
   ]
  },
  {
   "cell_type": "code",
   "execution_count": 7,
   "metadata": {},
   "outputs": [],
   "source": [
    "# Working with stream for further downloading\n",
    "yt_stream = yt.streams"
   ]
  },
  {
   "cell_type": "code",
   "execution_count": 8,
   "metadata": {},
   "outputs": [],
   "source": [
    "# Creating methods to display download options available as per user's choice\n",
    "\n",
    "# importing re library to work with regex\n",
    "import re\n",
    "\n",
    "# Method to return list of available options for downloading video with sound\n",
    "def options_for_video_with_sound():\n",
    "    available_options = []\n",
    "    for item in yt.streams:\n",
    "        if \"vcodec\" in str(item) and \"acodec\" in str(item):\n",
    "            capturing_group = re.search('res=\"(.+?)p\"',str(item))\n",
    "            available_options.append(capturing_group.group(1) + \"p\")\n",
    "    return available_options\n",
    "\n",
    "# Method to return list of available options for downloading video without sound\n",
    "def options_for_video_only():\n",
    "    available_options = []\n",
    "    for item in yt.streams:\n",
    "        if \"vcodec\" in str(item) and \"acodec\" not in str(item) and 'mime_type=\"video/mp4\"' in str(item):\n",
    "            capturing_group = re.search('res=\"(.+?)p\"',str(item))\n",
    "            available_options.append(capturing_group.group(1) + \"p\")\n",
    "    return available_options\n",
    "    \n",
    "# Method to return list of available options for downloading audio only\n",
    "def options_for_audio_only():\n",
    "    available_options = []\n",
    "    for item in yt.streams:\n",
    "        if 'type=\"audio\"' in str(item):\n",
    "            capturing_group = re.search('abr=\"(.+?)kbps\"',str(item))\n",
    "            available_options.append(capturing_group.group(1) + \"kbps\")\n",
    "    return available_options"
   ]
  },
  {
   "cell_type": "code",
   "execution_count": 9,
   "metadata": {},
   "outputs": [
    {
     "name": "stdout",
     "output_type": "stream",
     "text": [
      "Enter : \n",
      "1 for Video with sound\n",
      "2 for Video without sound\n",
      "3 for audio only\n",
      "1\n"
     ]
    }
   ],
   "source": [
    "# ASking user for his choice\n",
    "print(\"Enter : \")\n",
    "print(\"1 for Video with sound\")\n",
    "print(\"2 for Video without sound\")\n",
    "print(\"3 for audio only\")\n",
    "choice = input()"
   ]
  },
  {
   "cell_type": "code",
   "execution_count": 10,
   "metadata": {},
   "outputs": [
    {
     "name": "stdout",
     "output_type": "stream",
     "text": [
      "Select available options for downloading\n",
      "1 for 360p\n",
      "1\n"
     ]
    }
   ],
   "source": [
    "# To ask about the quality in which user wants to download video/audio\n",
    "quality = None\n",
    "\n",
    "# To select download quality for video with sound\n",
    "if(choice == '1'):\n",
    "    print(\"Select available options for downloading\")\n",
    "    for index,option in enumerate(options_for_video_with_sound()):\n",
    "        print((index+1),\"for\",option)\n",
    "    quality = input()\n",
    "\n",
    "# To select download quality for video without sound\n",
    "elif(choice == '2'):\n",
    "    print(\"Select available options for downloading\")\n",
    "    for index,option in enumerate(options_for_video_only()):\n",
    "        print((index+1),\"for\",option)\n",
    "    quality = input()\n",
    "        \n",
    "# To select download quality for audio only\n",
    "elif(choice == '3'):\n",
    "    print(\"Select available options for downloading\")\n",
    "    for index,option in enumerate(options_for_audio_only()):\n",
    "        print((index+1),\"for\",option)\n",
    "    quality = input()"
   ]
  },
  {
   "cell_type": "code",
   "execution_count": 11,
   "metadata": {},
   "outputs": [],
   "source": [
    "# Downloading Video/Audio as per user's choice\n",
    "\n",
    "# Dowloading video with sound\n",
    "if(choice == '1'):\n",
    "    yt_stream.filter(mime_type=\"video/mp4\", res=(options_for_video_with_sound()[int(quality)-1])).first().download()\n",
    "\n",
    "# Dowloading video without sound\n",
    "elif(choice == '2'):\n",
    "    yt_stream.filter(mime_type=\"video/mp4\", res=(options_for_video_only()[int(quality)-1])).last().download()\n",
    "        \n",
    "# Dowloading audio only\n",
    "elif(choice == '3'):\n",
    "    yt_stream.filter(type=\"audio\", abr=(options_for_audio_only()[int(quality)-1])).first().download()"
   ]
  }
 ],
 "metadata": {
  "kernelspec": {
   "display_name": "Python 3",
   "language": "python",
   "name": "python3"
  },
  "language_info": {
   "codemirror_mode": {
    "name": "ipython",
    "version": 3
   },
   "file_extension": ".py",
   "mimetype": "text/x-python",
   "name": "python",
   "nbconvert_exporter": "python",
   "pygments_lexer": "ipython3",
   "version": "3.7.4"
  }
 },
 "nbformat": 4,
 "nbformat_minor": 2
}
